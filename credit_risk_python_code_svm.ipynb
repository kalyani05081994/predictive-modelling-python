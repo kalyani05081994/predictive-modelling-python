import pandas as pd
import numpy as np
train_data=pd.read_csv('C:/Users/00008020/.spyder-py3/python_programs/risk_analytics_train.csv',header=0)
test_data=pd.read_csv('C:/Users/00008020/.spyder-py3/python_programs/R_Module_Day_8.1_Credit_Risk_Test_data.csv',header=0)
#%%
print(train_data.shape)
train_data.head()
#%%
#handling missing values
print(train_data.isnull().sum())
#%%
train_data.describe(include='all')
train_data.Credit_History.mode()
#%%
colname1=["Gender","Married","Dependents","Self_Employed","Loan_Amount_Term"]
for x in colname1[:]:
    train_data[x].fillna(train_data[x].mode()[0],inplace=True)
#%%
print(train_data.isnull().sum())
#%%
train_data['LoanAmount'].fillna(train_data['LoanAmount'].mean(),inplace=True)
print(train_data.isnull().sum())
#%%
train_data['Credit_History'].fillna(value=0,inplace=True)
print(train_data.isnull().sum())
#%%
from sklearn import preprocessing
colname=['Gender','Married','Education','Self_Employed','Property_Area','Loan_Status']
le={}
for x in colname:
    le[x]=preprocessing.LabelEncoder()
    train_data[x]=le[x].fit_transform(train_data.__getattr__(x))
    #%%
    
print(train_data)
train_data.head()
#%%
print(test_data.shape)
test_data.head()
#%%
#handling missing values
print(test_data.isnull().sum())
#%%
test_data.describe(include='all')
test_data.Credit_History.mode()

#%%
colname1=["Gender","Dependents","Self_Employed","Loan_Amount_Term"]
for x in colname1[:]:
    test_data[x].fillna(test_data[x].mode()[0],inplace=True)
#%%
print(test_data.isnull().sum())
#%%
test_data['LoanAmount'].fillna(test_data['LoanAmount'].mean(),inplace=True)
print(test_data.isnull().sum())
#%%
test_data['Credit_History'].fillna(value=0,inplace=True)
print(test_data.isnull().sum())
#%%
from sklearn import preprocessing
colname=['Gender','Dependents','Married','Education','Self_Employed','Property_Area']
le={}
for x in colname:
    le[x]=preprocessing.LabelEncoder()
    test_data[x]=le[x].fit_transform(test_data.__getattr__(x))
    #%%
test_data.head()
    #%%
x_train=train_data.values[:,1:-1]
y_train=train_data.values[:,-1]
y_train=y_train.astype(int)
#%%
x_test=test_data.values[:,1:]
#%%
from sklearn.preprocessing import StandardScaler
scaler=StandardScaler()
scaler.fit(x_train)#fit is not used on test data
x_train=scaler.transform(x_train)
x_test=scaler.transform(x_test)   
#%%
from sklearn import svm
svc_model=svm.SVC(kernel='rbf',C=1.0,gamma=0.1)
svc_model.fit(x_train,y_train)
y_pred=svc_model.predict(x_test)
print(list(y_pred)) 
#%%
y_pred_col=list(y_pred)
#%%
test_data=pd.read_csv('C:/Users/00008020/.spyder-py3/python_programs/R_Module_Day_8.1_Credit_Risk_Test_data.csv',header=0)
test_data['y_predictions']=y_pred_col
test_data.head()
#%%    
test_data.to_csv('credit_risk_test_data')
#%%
#SVM
classifier=svm.SVC(kernel='sigmoid',C=1,gamma=0.01)
from sklearn import cross_validation
#performing kfold_cross_validation
kfold_cv=cross_validation.KFold(n=len(x_train),n_folds=10)
print(kfold_cv)

#running the model using scoring metric as accuracy
kfold_cv_result=cross_validation.cross_val_score(estimator=classifier,X=x_train,
y=y_train, cv=kfold_cv)
print(kfold_cv_result)
#finding the mean
print(kfold_cv_result.mean())
#%%
#Logistic regression
from sklearn.linear_model import LogisticRegression
#create model
classifier=(LogisticRegression())

from sklearn import cross_validation
#performing kfold_cross_validation
kfold_cv=cross_validation.KFold(n=len(x_train),n_folds=10)
print(kfold_cv)

#running the model using scoring metric as accuracy
kfold_cv_result=cross_validation.cross_val_score(estimator=classifier,X=x_train,
y=y_train, cv=kfold_cv)
print(kfold_cv_result)
#finding the mean
print(kfold_cv_result.mean())
#%%
#SVM tuning
classifier=svm.SVC(kernel='linear',C=1,gamma=0.1)
from sklearn import cross_validation
#performing kfold_cross_validation
kfold_cv=cross_validation.KFold(n=len(x_train),n_folds=10)
print(kfold_cv)

#running the model using scoring metric as accuracy
kfold_cv_result=cross_validation.cross_val_score(estimator=classifier,X=x_train,
y=y_train, cv=kfold_cv)
print(kfold_cv_result)
#finding the mean
print(kfold_cv_result.mean())
