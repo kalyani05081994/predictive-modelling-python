import pandas as pd
import numpy as np
data=pd.read_csv("Advertising.csv",index_col=0)
data.head()
#%%
print(data.dtypes,data.shape,data.describe())
#%%
feature_cols=['TV','radio','newspaper']
X=data[feature_cols]
Y=data.sales
#%%
import seaborn as sns
sns.pairplot(data,x_vars=["TV","radio","newspaper"],y_vars="sales",kind='reg')
#%%
from sklearn.preprocessing import StandardScaler
scaler=StandardScaler()
scaler.fit(X)
X=scaler.transform(X)
print(X)
#%%
from sklearn.model_selection import train_test_split
#split data in2 test and train
X_train,X_test,Y_train,Y_test=train_test_split(X,Y,test_size=0.3,random_state=10)
#%%
from sklearn.linear_model import LinearRegression
lm=LinearRegression()
lm.fit(X_train,Y_train)
print(lm.intercept_)
print(lm.coef_)
#%%manual testing if less numbers of variables are there
X1=50
X2=50
X3=50
y_pred=3.410641588611826+(0.04303172*X1)+(0.19352212*X2)+(-0.00386729*X3)
print(y_pred)
#%%for many variables we directly use predict x_test
Y_pred=lm.predict(X_test)
print(Y_pred)
#%%
from sklearn.metrics import r2_score,mean_squared_error
r2score=r2_score(Y_test,Y_pred)
print(r2score)
rmse=np.sqrt(mean_squared_error(Y_test,Y_pred))
print(rmse)#compare rmse value with y range
#%%
print(min(Y),max(Y))
#%%
ind_df=data.iloc[:,:-1]
corr_df=ind_df.corr(method="pearson")
print(corr_df)
sns.heatmap(corr_df,vmax=1.0,vmin=-1.0)
#%%
ind_df=data.iloc[:,:-1]
sns.set(color_codes=True)
sns.distplot(X[:,0])
#%%
from statsmodels.stats.outliers_influence import variance_inflation_factor as vif
ind_df=data.iloc[:,:-1]
vif_df=pd.DataFrame()
vif_df["features"]=ind_df.columns
vif_df["VIF Factor"]=[vif(ind_df.values,i) for i in range(ind_df.shape[1])]
vif_df.round(2)
#%%
import statsmodels.formula.api as sm
lm_model=sm.ols(formula='sales~TV+radio+newspaper',data=data).fit()
print(lm_model.params,lm_model.summary())
'''Intercept    2.938889
TV           0.045765
radio        0.188530
newspaper   -0.001037
dtype: float64                             OLS Regression Results                            
==============================================================================
Dep. Variable:                  sales   R-squared:                       0.897
Model:                            OLS   Adj. R-squared:                  0.896
Method:                 Least Squares   F-statistic:                     570.3
Date:                Tue, 21 Aug 2018   Prob (F-statistic):           1.58e-96
Time:                        11:43:48   Log-Likelihood:                -386.18
No. Observations:                 200   AIC:                             780.4
Df Residuals:                     196   BIC:                             793.6
Df Model:                           3                                         
Covariance Type:            nonrobust                                         
==============================================================================
                 coef    std err          t      P>|t|      [0.025      0.975]
------------------------------------------------------------------------------
Intercept      2.9389      0.312      9.422      0.000       2.324       3.554
TV             0.0458      0.001     32.809      0.000       0.043       0.049
radio          0.1885      0.009     21.893      0.000       0.172       0.206
newspaper     -0.0010      0.006     -0.177      0.860      -0.013       0.011
==============================================================================
Omnibus:                       60.414   Durbin-Watson:                   2.084
Prob(Omnibus):                  0.000   Jarque-Bera (JB):              151.241
Skew:                          -1.327   Prob(JB):                     1.44e-33
Kurtosis:                       6.332   Cond. No.                         454.
==============================================================================

Warnings:
[1] Standard Errors assume that the covariance matrix of the errors is correctly specified.'''
#%%
Y_pred=lm_model.predict()
print(Y_pred)
from sklearn.metrics import r2_score,mean_squared_error
r2score=r2_score(data['sales'],Y_pred)
print(r2score)
rmse=np.sqrt(mean_squared_error(data['sales'],Y_pred))
print(rmse)
#%%
'''lm_model1=sm.ols(formula='sales~TV+radio',data=data).fit()
print(lm_model1.params,lm_model1.summary())'''
#%%

